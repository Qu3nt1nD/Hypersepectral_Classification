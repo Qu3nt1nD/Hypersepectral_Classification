{
 "cells": [
  {
   "cell_type": "code",
   "execution_count": 1,
   "metadata": {},
   "outputs": [],
   "source": [
    "import numpy as np\n",
    "from scipy import io\n",
    "from utils import viz_img\n",
    "import yaml\n",
    "from random import shuffle"
   ]
  },
  {
   "cell_type": "code",
   "execution_count": null,
   "metadata": {},
   "outputs": [],
   "source": [
    "path_img = \"./data/indian_pines/Indian_pines_corrected.mat\"\n",
    "path_gt = \"./data/indian_pines/Indian_pines_gt.mat\"\n",
    "path_data = \"./data/indian_pines/data.yaml\"\n",
    "file = io.loadmat(path_img)\n",
    "img = file[\"indian_pines_corrected\"]\n",
    "\n",
    "with open(path_data, 'r') as stream:\n",
    "    try:\n",
    "        file = yaml.safe_load(stream)\n",
    "    except yaml.YAMLError as e:\n",
    "        print(e)\n",
    "labels = file['LABELS']\n",
    "\n",
    "file = io.loadmat(path_gt)\n",
    "gt = file[\"indian_pines_gt\"]\n",
    "print(np.max(gt))"
   ]
  },
  {
   "cell_type": "code",
   "execution_count": null,
   "metadata": {},
   "outputs": [],
   "source": [
    "# Aviris Sensor\n",
    "RGB_index = (43,21,11)\n",
    "\n",
    "viz_img(img, gt, labels, RGB_index)"
   ]
  },
  {
   "cell_type": "code",
   "execution_count": 4,
   "metadata": {},
   "outputs": [],
   "source": [
    "from datasets import IndianPinesDataset3D\n",
    "from torch.utils.data import DataLoader\n",
    "\n",
    "dataset = IndianPinesDataset3D(img, gt, labels)"
   ]
  },
  {
   "cell_type": "code",
   "execution_count": null,
   "metadata": {},
   "outputs": [],
   "source": [
    "print(len(dataset))\n",
    "print(img.shape)"
   ]
  },
  {
   "cell_type": "code",
   "execution_count": null,
   "metadata": {},
   "outputs": [],
   "source": [
    "loader = DataLoader(dataset)\n",
    "\n",
    "sample = next(iter(loader))\n",
    "\n",
    "viz_img(np.array(sample[0][0]), gt, labels, RGB_index)"
   ]
  },
  {
   "cell_type": "code",
   "execution_count": null,
   "metadata": {},
   "outputs": [],
   "source": [
    "img_selection = img.copy()\n",
    "y, x = 64, 96\n",
    "shift = 3\n",
    "img_selection[y-shift, x-shift:x+shift, RGB_index[0]] = 255\n",
    "img_selection[y+shift, x-shift:x+shift, RGB_index[0]] = 255\n",
    "img_selection[y-shift:y+shift, x-shift, RGB_index[0]] = 255\n",
    "img_selection[y-shift:y+shift, x+shift, RGB_index[0]] = 255\n",
    "viz_img(img_selection, gt, labels, RGB_index)"
   ]
  }
 ],
 "metadata": {
  "kernelspec": {
   "display_name": ".cvvenv",
   "language": "python",
   "name": "python3"
  },
  "language_info": {
   "codemirror_mode": {
    "name": "ipython",
    "version": 3
   },
   "file_extension": ".py",
   "mimetype": "text/x-python",
   "name": "python",
   "nbconvert_exporter": "python",
   "pygments_lexer": "ipython3",
   "version": "3.12.8"
  }
 },
 "nbformat": 4,
 "nbformat_minor": 2
}
